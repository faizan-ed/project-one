{
 "cells": [
  {
   "cell_type": "code",
   "execution_count": 1,
   "metadata": {},
   "outputs": [],
   "source": [
    "import pandas as pd"
   ]
  },
  {
   "cell_type": "code",
   "execution_count": 2,
   "metadata": {},
   "outputs": [],
   "source": [
    "import requests"
   ]
  },
  {
   "cell_type": "code",
   "execution_count": 5,
   "metadata": {},
   "outputs": [
    {
     "name": "stdout",
     "output_type": "stream",
     "text": [
      "Hello, #0\n",
      "Hello, #1\n",
      "Hello, #4\n",
      "Hello, #9\n",
      "Hello, #16\n",
      "Hello, #25\n",
      "Hello, #36\n",
      "Hello, #49\n",
      "Hello, #64\n",
      "Hello, #81\n"
     ]
    }
   ],
   "source": [
    "for i in range(10):\n",
    "    print(f\"Hello, #{i**2}\")"
   ]
  },
  {
   "cell_type": "code",
   "execution_count": 6,
   "metadata": {},
   "outputs": [
    {
     "name": "stdout",
     "output_type": "stream",
     "text": [
      "I like pizza\n",
      "I like pasta\n",
      "I like potatoes\n"
     ]
    }
   ],
   "source": [
    "foods = ['pizza', 'pasta', 'potatoes']\n",
    "for food in foods: \n",
    "    print(f\"I like {food}\")"
   ]
  },
  {
   "cell_type": "code",
   "execution_count": null,
   "metadata": {},
   "outputs": [],
   "source": []
  }
 ],
 "metadata": {
  "kernelspec": {
   "display_name": "Python 3",
   "language": "python",
   "name": "python3"
  },
  "language_info": {
   "codemirror_mode": {
    "name": "ipython",
    "version": 3
   },
   "file_extension": ".py",
   "mimetype": "text/x-python",
   "name": "python",
   "nbconvert_exporter": "python",
   "pygments_lexer": "ipython3",
   "version": "3.7.2"
  }
 },
 "nbformat": 4,
 "nbformat_minor": 2
}
